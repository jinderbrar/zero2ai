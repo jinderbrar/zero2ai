{
 "cells": [
  {
   "cell_type": "code",
   "execution_count": 1,
   "id": "d3dc207d",
   "metadata": {},
   "outputs": [
    {
     "name": "stdout",
     "output_type": "stream",
     "text": [
      "Setup complete.\n"
     ]
    }
   ],
   "source": [
    "%load_ext autoreload\n",
    "%autoreload 2\n",
    "\n",
    "import sys\n",
    "\n",
    "sys.path.append(\"../\")\n",
    "\n",
    "print(\"Setup complete.\")"
   ]
  },
  {
   "cell_type": "code",
   "execution_count": 2,
   "id": "17a6667b",
   "metadata": {},
   "outputs": [],
   "source": [
    "import numpy as np\n",
    "from darth.nn import Linear, Sequential\n"
   ]
  },
  {
   "cell_type": "code",
   "execution_count": 3,
   "id": "a9e017f4",
   "metadata": {},
   "outputs": [
    {
     "name": "stdout",
     "output_type": "stream",
     "text": [
      "out == o3 : True\n",
      "\n",
      "out : \n",
      "[[0.         0.        ]\n",
      " [0.53133748 2.36937218]\n",
      " [0.55261229 3.03753456]\n",
      " [0.         0.        ]]\n",
      "\n",
      "o3 : \n",
      "[[0.         0.        ]\n",
      " [0.53133748 2.36937218]\n",
      " [0.55261229 3.03753456]\n",
      " [0.         0.        ]]\n"
     ]
    }
   ],
   "source": [
    "fan_in, fan_out = 4, 2\n",
    "\n",
    "seed = 21\n",
    "np.random.seed(seed)\n",
    "data = np.random.randn(4, fan_in)\n",
    "\n",
    "l1 = Linear(fan_in, 3)\n",
    "l2 = Linear(3, 2)\n",
    "l3 = Linear(2, fan_out)\n",
    "\n",
    "o1 = l1.forward(data)\n",
    "o2 = l2.forward(o1)\n",
    "o3 = l3.forward(o2)\n",
    "\n",
    "s1 = Sequential(l1, l2, l3)\n",
    "out = s1.forward(data)\n",
    "\n",
    "print(f'out == o3 : {np.array_equal(out, o3)}')\n",
    "print(f'\\nout : \\n{out}')\n",
    "print(f'\\no3 : \\n{o3}')"
   ]
  },
  {
   "cell_type": "code",
   "execution_count": 4,
   "id": "3858c234",
   "metadata": {},
   "outputs": [
    {
     "data": {
      "text/plain": [
       "Sequential(\n",
       "  layer_0 = Linear(\n",
       "    fan_in = 4,\n",
       "    fan_out = 3,\n",
       "    actFn = relu,\n",
       "    ),\n",
       "  layer_1 = Linear(\n",
       "    fan_in = 3,\n",
       "    fan_out = 2,\n",
       "    actFn = relu,\n",
       "    ),\n",
       "  layer_2 = Linear(\n",
       "    fan_in = 2,\n",
       "    fan_out = 2,\n",
       "    actFn = relu,\n",
       "    ),\n",
       "  )"
      ]
     },
     "execution_count": 4,
     "metadata": {},
     "output_type": "execute_result"
    }
   ],
   "source": [
    "s1"
   ]
  }
 ],
 "metadata": {
  "kernelspec": {
   "display_name": ".venv (3.12.10)",
   "language": "python",
   "name": "python3"
  },
  "language_info": {
   "codemirror_mode": {
    "name": "ipython",
    "version": 3
   },
   "file_extension": ".py",
   "mimetype": "text/x-python",
   "name": "python",
   "nbconvert_exporter": "python",
   "pygments_lexer": "ipython3",
   "version": "3.12.10"
  }
 },
 "nbformat": 4,
 "nbformat_minor": 5
}
